{
 "cells": [
  {
   "cell_type": "code",
   "execution_count": null,
   "metadata": {},
   "outputs": [],
   "source": [
    "# un programme qui permet :\n",
    "# de demander à l’utilisateur combien de notes il souhaite saisir → [ n ]\n",
    "nb_notes = demande_nombre_entier(\"Combien de notes sont à saisir ?\")\n",
    "# de saisir les [ n ] notes comprise entre [ 0 ; 20 ]\n",
    "tab_notes = [ demande_note() for i in range(nb_notes) ]\n",
    "# - d’afficher la note la plus faible et la note la plus élevée\n",
    "\n",
    "# - de calculer la moyenne"
   ]
  },
  {
   "cell_type": "code",
   "execution_count": null,
   "metadata": {},
   "outputs": [],
   "source": [
    "def demande_nombre_entier(question:str)->int :\n",
    "    \"\"\"\n",
    "    \n",
    "    \"\"\"\n",
    "    assert \n",
    "    return nombre"
   ]
  },
  {
   "cell_type": "code",
   "execution_count": null,
   "metadata": {},
   "outputs": [],
   "source": [
    "def demande_note() :"
   ]
  },
  {
   "cell_type": "code",
   "execution_count": null,
   "metadata": {},
   "outputs": [],
   "source": [
    "def minimum() :"
   ]
  },
  {
   "cell_type": "code",
   "execution_count": null,
   "metadata": {},
   "outputs": [],
   "source": [
    "def maximum() :"
   ]
  },
  {
   "cell_type": "code",
   "execution_count": null,
   "metadata": {},
   "outputs": [],
   "source": [
    "def somme() :"
   ]
  },
  {
   "cell_type": "code",
   "execution_count": null,
   "metadata": {},
   "outputs": [],
   "source": [
    "def moyenne() :"
   ]
  }
 ],
 "metadata": {
  "language_info": {
   "name": "python"
  },
  "orig_nbformat": 4
 },
 "nbformat": 4,
 "nbformat_minor": 2
}
